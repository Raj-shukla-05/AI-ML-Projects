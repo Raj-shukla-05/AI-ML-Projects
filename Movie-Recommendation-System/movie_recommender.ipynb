{
 "cells": [
  {
   "cell_type": "code",
   "execution_count": 5,
   "id": "c0a3a072",
   "metadata": {},
   "outputs": [
    {
     "name": "stdout",
     "output_type": "stream",
     "text": [
      "   userId  movieId  rating   timestamp\n",
      "0       1       31     2.5  1260759144\n",
      "1       1     1029     3.0  1260759179\n",
      "2       1     1061     3.0  1260759182\n",
      "3       1     1129     2.0  1260759185\n",
      "4       1     1172     4.0  1260759205\n",
      "      id                        title\n",
      "0    862                    Toy Story\n",
      "1   8844                      Jumanji\n",
      "2  15602             Grumpier Old Men\n",
      "3  31357            Waiting to Exhale\n",
      "4  11862  Father of the Bride Part II\n"
     ]
    },
    {
     "name": "stderr",
     "output_type": "stream",
     "text": [
      "c:\\Users\\rajsh\\AppData\\Local\\Programs\\Python\\Python310\\lib\\site-packages\\numpy\\lib\\function_base.py:2889: RuntimeWarning: Degrees of freedom <= 0 for slice\n",
      "  c = cov(x, y, rowvar, dtype=dtype)\n",
      "c:\\Users\\rajsh\\AppData\\Local\\Programs\\Python\\Python310\\lib\\site-packages\\numpy\\lib\\function_base.py:2748: RuntimeWarning: divide by zero encountered in divide\n",
      "  c *= np.true_divide(1, fact)\n",
      "c:\\Users\\rajsh\\AppData\\Local\\Programs\\Python\\Python310\\lib\\site-packages\\numpy\\lib\\function_base.py:2748: RuntimeWarning: invalid value encountered in multiply\n",
      "  c *= np.true_divide(1, fact)\n",
      "c:\\Users\\rajsh\\AppData\\Local\\Programs\\Python\\Python310\\lib\\site-packages\\numpy\\lib\\function_base.py:2897: RuntimeWarning: invalid value encountered in divide\n",
      "  c /= stddev[:, None]\n",
      "c:\\Users\\rajsh\\AppData\\Local\\Programs\\Python\\Python310\\lib\\site-packages\\numpy\\lib\\function_base.py:2898: RuntimeWarning: invalid value encountered in divide\n",
      "  c /= stddev[None, :]\n"
     ]
    },
    {
     "name": "stdout",
     "output_type": "stream",
     "text": [
      "                           Correlation  NumRatings\n",
      "title                                             \n",
      "Imagine Me & You                   1.0          67\n",
      "K-19: The Widowmaker               1.0          74\n",
      "Beetlejuice                        1.0          95\n",
      "Monsieur  Hulot's Holiday          1.0         124\n",
      "The Bourne Supremacy               1.0         106\n",
      "5 Card Stud                        1.0         200\n",
      "The Last Laugh                     1.0          51\n",
      "Sweet Sixteen                      1.0          65\n",
      "Who Killed Bambi?                  1.0         113\n",
      "When Saturday Comes                1.0          70\n"
     ]
    }
   ],
   "source": [
    "import pandas as pd\n",
    "import numpy as np\n",
    "import seaborn as sns\n",
    "import matplotlib.pyplot as plt\n",
    "\n",
    "# Load datasets\n",
    "ratings = pd.read_csv('ratings.csv')\n",
    "movies = pd.read_csv('movies.csv', low_memory=False)\n",
    "\n",
    "# Check the first few rows\n",
    "print(ratings.head())\n",
    "print(movies[['id', 'title']].head())\n",
    "# Convert 'id' in movies to numeric, errors='coerce' will turn bad rows to NaN\n",
    "movies['id'] = pd.to_numeric(movies['id'], errors='coerce')\n",
    "\n",
    "# Drop rows with NaN movie IDs\n",
    "movies = movies.dropna(subset=['id'])\n",
    "\n",
    "# Convert to integer to match ratings\n",
    "movies['id'] = movies['id'].astype(int)\n",
    "\n",
    "# Merge both datasets\n",
    "df = pd.merge(ratings, movies, left_on='movieId', right_on='id')\n",
    "df = df[['userId', 'title', 'rating']]\n",
    "df.head()\n",
    "user_movie_matrix = df.pivot_table(index='userId', columns='title', values='rating')\n",
    "user_movie_matrix.head()\n",
    "# Choose a movie\n",
    "movie_liked = 'The Dark Knight'\n",
    "\n",
    "# Get ratings of that movie\n",
    "movie_ratings = user_movie_matrix[movie_liked]\n",
    "\n",
    "# Find similar movies\n",
    "similar_movies = user_movie_matrix.corrwith(movie_ratings)\n",
    "\n",
    "# Build DataFrame\n",
    "corr_df = pd.DataFrame(similar_movies, columns=['Correlation'])\n",
    "corr_df.dropna(inplace=True)\n",
    "\n",
    "# Add # of ratings per movie\n",
    "rating_counts = df.groupby('title')['rating'].count()\n",
    "corr_df['NumRatings'] = rating_counts\n",
    "\n",
    "# Filter: recommend only movies with enough ratings\n",
    "recommendations = corr_df[corr_df['NumRatings'] > 50].sort_values('Correlation', ascending=False).head(10)\n",
    "print(recommendations)\n"
   ]
  }
 ],
 "metadata": {
  "kernelspec": {
   "display_name": "Python 3",
   "language": "python",
   "name": "python3"
  },
  "language_info": {
   "codemirror_mode": {
    "name": "ipython",
    "version": 3
   },
   "file_extension": ".py",
   "mimetype": "text/x-python",
   "name": "python",
   "nbconvert_exporter": "python",
   "pygments_lexer": "ipython3",
   "version": "3.10.0"
  }
 },
 "nbformat": 4,
 "nbformat_minor": 5
}
